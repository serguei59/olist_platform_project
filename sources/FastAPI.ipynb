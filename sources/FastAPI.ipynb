{
 "cells": [
  {
   "cell_type": "markdown",
   "id": "635c498d-b440-4f76-b570-ec6a6a555c6b",
   "metadata": {},
   "source": [
    "# FastAPI"
   ]
  },
  {
   "cell_type": "markdown",
   "id": "d9f5afa6-0d53-4fcf-91cf-794288ed94d8",
   "metadata": {},
   "source": [
    "# Introduction à FastAPI\n",
    "## Qu'est-ce que FastAPI ?\n",
    "FastAPI est un framework web moderne et rapide pour la création d'API RESTful\n",
    "\n",
    "https://fastapi.tiangolo.com/\n",
    "\n",
    "## Pourquoi utiliser FastAPI ?\n",
    "- Rapidité : FastAPI est basé sur Starlette et Pydantic, ce qui lui permet d'être rapide et performant.\n",
    "- Documentation automatique : La documentation interactive est générée automatiquement en fonction des types de données définis.\n",
    "- Validation des données : Les données sont validées automatiquement à l'aide de Pydantic.\n",
    "\n",
    "## Principales fonctionnalités de FastAPI\n",
    "- Déclaration rapide des routes avec une syntaxe type Python.\n",
    "- Validation automatique des données avec Pydantic.\n",
    "- Génération automatique de la documentation Swagger et ReDoc.\n",
    "\n",
    "## Installation de FastAPI\n",
    "```bash\n",
    "pip install fastapi[all]"
   ]
  },
  {
   "cell_type": "markdown",
   "id": "f90ee372-9fa7-4875-848f-d7981fa10ca5",
   "metadata": {},
   "source": [
    "## Exemple pratique : Création d'une API simple avec FastAPI"
   ]
  },
  {
   "cell_type": "code",
   "execution_count": 1,
   "id": "3ba6e198-5dad-4847-8442-1ba87782b39f",
   "metadata": {},
   "outputs": [],
   "source": [
    "# Importation de la bibliothèque FastAPI\n",
    "from fastapi import FastAPI"
   ]
  },
  {
   "cell_type": "code",
   "execution_count": 2,
   "id": "90a3f778-984a-4cae-ae52-75d25e977012",
   "metadata": {},
   "outputs": [],
   "source": [
    "# Création d'une instance FastAPI\n",
    "app = FastAPI()\n",
    "\n",
    "# Définition d'une route avec une méthode\n",
    "@app.get(\"/\")\n",
    "def read_root():\n",
    "    return {\"message\": \"Hello, World!\"}\n",
    "\n",
    "# Définition d'une route avec une variable de chemin\n",
    "@app.get(\"/items/{item_id}\")\n",
    "def read_item(item_id: int, query_param: str = None):\n",
    "    return {\"item_id\": item_id, \"query_param\": query_param}"
   ]
  },
  {
   "cell_type": "markdown",
   "id": "51f7cbb5-2bc6-4a5a-99f6-37cbfee10e6b",
   "metadata": {},
   "source": [
    "###Tester avec \n",
    "uvicorn FastAPI_firstapp:app --reload\n",
    "\n",
    "@http://127.0.0.1:8000/"
   ]
  },
  {
   "cell_type": "markdown",
   "id": "2dd8ebc6-333d-4cf2-9fe1-317a3fd78aef",
   "metadata": {},
   "source": [
    "## Documentation automatique \n",
    "http://127.0.0.1:8000/redoc"
   ]
  },
  {
   "cell_type": "markdown",
   "id": "a7ec3662-8ae1-4095-bffc-2596198a10b4",
   "metadata": {},
   "source": [
    "## Schéma \n",
    "\n",
    "http://127.0.0.1:8000/openapi.json"
   ]
  },
  {
   "cell_type": "code",
   "execution_count": null,
   "id": "b44ac13e-7071-4738-aa9a-a42e7991faf7",
   "metadata": {},
   "outputs": [],
   "source": []
  }
 ],
 "metadata": {
  "kernelspec": {
   "display_name": "Python 3 (ipykernel)",
   "language": "python",
   "name": "python3"
  },
  "language_info": {
   "codemirror_mode": {
    "name": "ipython",
    "version": 3
   },
   "file_extension": ".py",
   "mimetype": "text/x-python",
   "name": "python",
   "nbconvert_exporter": "python",
   "pygments_lexer": "ipython3",
   "version": "3.12.1"
  }
 },
 "nbformat": 4,
 "nbformat_minor": 5
}
